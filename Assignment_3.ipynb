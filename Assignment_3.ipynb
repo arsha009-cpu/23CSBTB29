{
  "nbformat": 4,
  "nbformat_minor": 0,
  "metadata": {
    "colab": {
      "provenance": [],
      "authorship_tag": "ABX9TyNQPLS/KhlGgMpVL0JY8exI",
      "include_colab_link": true
    },
    "kernelspec": {
      "name": "python3",
      "display_name": "Python 3"
    },
    "language_info": {
      "name": "python"
    }
  },
  "cells": [
    {
      "cell_type": "markdown",
      "metadata": {
        "id": "view-in-github",
        "colab_type": "text"
      },
      "source": [
        "<a href=\"https://colab.research.google.com/github/arsha009-cpu/23CSBTB29/blob/main/Assignment_3.ipynb\" target=\"_parent\"><img src=\"https://colab.research.google.com/assets/colab-badge.svg\" alt=\"Open In Colab\"/></a>"
      ]
    },
    {
      "cell_type": "markdown",
      "source": [
        "#1. Implement the AI Game Strategy Part 1 –(a). Install the Python Libraries required for Game Strategy"
      ],
      "metadata": {
        "id": "VlsoRPeCa0mg"
      }
    },
    {
      "cell_type": "code",
      "execution_count": 1,
      "metadata": {
        "id": "RsMPi4fbXOs3"
      },
      "outputs": [],
      "source": [
        "from collections import namedtuple,Counter,defaultdict\n",
        "import random\n",
        "import math\n",
        "import functools"
      ]
    },
    {
      "cell_type": "code",
      "source": [
        "cache = functools.lru_cache(10**6)\n",
        "class Game:\n",
        " def actions(self, state ):\n",
        "  raise NotImplementedError\n",
        " def result(self, state , move ):\n",
        "  raise NotImplementedError\n",
        " def isterminal (self, state ):\n",
        "   return not self.actions(state)\n",
        " def utility(self, state , player ):\n",
        "   raise NotImplementedError\n",
        "   def playgame(game , strategies : dict , verbose=False ):\n",
        "    state = game.initial\n",
        "   while not game. isterminal (state ):\n",
        "     player = state. tomove\n",
        "     move = strategies [player ](game , state)\n",
        "     state = game.result(state , move)\n",
        "   if verbose:\n",
        "       print('Player', player , 'move:', move)\n",
        "       print(state)\n",
        "       return state"
      ],
      "metadata": {
        "id": "L3EYov-jZCxU"
      },
      "execution_count": 2,
      "outputs": []
    },
    {
      "cell_type": "code",
      "source": [],
      "metadata": {
        "id": "b38bWmr6Zd75"
      },
      "execution_count": null,
      "outputs": []
    },
    {
      "cell_type": "markdown",
      "source": [
        "#part 2-Implement the game Strategy Alogoritm\n",
        "#1.Implement the MiniMax Search Alogorithm\n"
      ],
      "metadata": {
        "id": "33HHVvKSZhWi"
      }
    },
    {
      "cell_type": "code",
      "source": [
        "def minimax_search(game , state):\n",
        "    player = state.to_move\n",
        "    def max_value(state):\n",
        "      if game.is_terminal(state):\n",
        "        return game.utility(state , player), None\n",
        "      v, move = infinity , None\n",
        "      for a in game.actions(state):\n",
        "        v2, = min_value(game.result(state , a))\n",
        "        if v2 > v:\n",
        "          v, move = v2, a\n",
        "          return v, move\n",
        "          def min_value(state):\n",
        "            if game.is_terminal(state):\n",
        "              return game.utility(state , player), None\n",
        "              v, move = +infinity , None\n",
        "              for a in game.actions(state):\n",
        "                v2, = max_value(game.result(state , a))\n",
        "                if v2 < v:\n",
        "                  v, move = v2, a\n",
        "                  return v, move\n",
        "                  return max_value(state)\n",
        "                  infinity = math.inf"
      ],
      "metadata": {
        "id": "0Rsmf7WzaNTQ"
      },
      "execution_count": 5,
      "outputs": []
    },
    {
      "cell_type": "markdown",
      "source": [
        "#2.Implement the Alpha-Beta Search Algorithm\n",
        "> Add blockquote\n",
        "\n"
      ],
      "metadata": {
        "id": "qGtu1XQiawKO"
      }
    },
    {
      "cell_type": "code",
      "source": [
        "def alphabetasearch (game , state ):\n",
        "    player = state. tomove\n",
        "    def maxvalue (state , alpha , beta ):\n",
        "      if game. isterminal (state ):\n",
        "        return game.utility(state , player), None\n",
        "        v, move = infinity , None\n",
        "        for a in game.actions(state ):\n",
        "          v2 , = minvalue (game.result(state , a), alpha , beta)\n",
        "          if v2 > v:\n",
        "            v, move = v2 , a\n",
        "            alpha = max(alpha , v)\n",
        "            if v >= beta:\n",
        "              return v, move\n",
        "              return v, move\n",
        "              def minvalue (state , alpha , beta ):\n",
        "                if game. isterminal (state ):\n",
        "                  return game.utility(state , player), None\n",
        "                  v, move = +infinity , None\n",
        "                  for a in game.actions(state ):\n",
        "                    v2 , = maxvalue (game.result(state , a), alpha , beta)\n",
        "                    if v2 < v:\n",
        "                      v, move = v2 , a\n",
        "                      beta = min(beta , v)\n",
        "                      if v <= alpha:\n",
        "                        return v, move\n",
        "                        return v, move\n",
        "                        return maxvalue (state , infinity , +infinity)"
      ],
      "metadata": {
        "id": "Zt1Y1E5uaqFN"
      },
      "execution_count": 14,
      "outputs": []
    },
    {
      "cell_type": "markdown",
      "source": [
        "#Part 3 – Implement the Game Strategy using TicTocToe.\n",
        "\n",
        "#1.Implement TicToCToe game using init , actions, result, is terminal, utility, display constructors"
      ],
      "metadata": {
        "id": "NSq5jfUJbzhp"
      }
    },
    {
      "cell_type": "code",
      "source": [],
      "metadata": {
        "id": "JPJdxC22cURq"
      },
      "execution_count": null,
      "outputs": []
    },
    {
      "cell_type": "code",
      "source": [
        "class TicTacToe(Game):\n",
        "  def init (self, height=3, width=3, k=3):\n",
        "    self.k = k # k in a row\n",
        "    self.squares ={(x, y) for x in range(width) for y in range(height)}\n",
        "    self.initial = Board(height=height , width=width , to_move='X', utility=0)\n",
        "    def actions(self, board):\n",
        "      return self.squares - set(board)\n",
        "      def result(self, board , square):\n",
        "        player = board.to_move\n",
        "        board = board.new({square: player}, to_move =('O' if player == 'X' else 'X'))\n",
        "        win = k in row (board , player , square , self.k)\n",
        "        board.utility = (0 if not win else +1 if player == 'X' else -1)\n",
        "        return board\n",
        "        def utility(self, board , player):\n",
        "          return board.utility if player == 'X' else -board.utility\n",
        "          def is_terminal(self, board):\n",
        "            return board.utility != 0 or len(self.squares) == len(board)\n",
        "            def display(self, board): print(board)\n",
        "            def k_in_row (board , player , square , k):\n",
        "              def in_row(x, y, dx, dy):\n",
        "                return 0 if board[x, y] != player else 1 + in_row(x + dx, y + dy, dx, dy)\n",
        "                return any(in_row(*square , dx, dy) + in_row(*square , -dx, -dy)-1>=k\n",
        "                           for (dx, dy) in ((0, 1), (1, 0), (1, 1), (1, -1)))"
      ],
      "metadata": {
        "id": "ZN9q6sFqb9t1"
      },
      "execution_count": 15,
      "outputs": []
    },
    {
      "cell_type": "markdown",
      "source": [
        "#2.implement a Game Board using defaultdict using init , new, missing , hash , repr"
      ],
      "metadata": {
        "id": "2xg3vqSYcFtt"
      }
    },
    {
      "cell_type": "code",
      "source": [
        "from collections import defaultdict\n",
        "\n",
        "class Board(defaultdict):\n",
        "    empty = '.'\n",
        "    off = '#'\n",
        "\n",
        "    def _init_(self, width=8, height=8, t0move=None, **kwds):\n",
        "        super()._init_()\n",
        "        self.update(width=width, height=height, tomove=t0move, **kwds)\n",
        "\n",
        "    def new(self, changes: dict, **kwds) -> 'Board':\n",
        "        \"\"\"Given a dict of {(x, y): contents} changes, return a new Board with the changes.\"\"\"\n",
        "        board = Board(width=self.width, height=self.height, **kwds)\n",
        "        board.update(self)\n",
        "        board.update(changes)\n",
        "        return board\n",
        "\n",
        "    def missing(self, loc):\n",
        "        x, y = loc\n",
        "        if 0 <= x < self.width and 0 <= y < self.height:\n",
        "            return self.empty\n",
        "        else:\n",
        "            return self.off\n",
        "\n",
        "    def _hash_(self):\n",
        "        return hash(tuple(sorted(self.items()))) + hash(self.t0move)\n",
        "\n",
        "    def _repr_(self):\n",
        "        def row(y):\n",
        "            return ' '.join(self[x, y] for x in range(self.width))\n",
        "        return '\\n'.join(map(row, range(self.height)))"
      ],
      "metadata": {
        "id": "QJRRcIq9cfhH"
      },
      "execution_count": 16,
      "outputs": []
    },
    {
      "cell_type": "markdown",
      "source": [
        "#3.implement random player(game,state) and player(search algorithm)"
      ],
      "metadata": {
        "id": "Fj4_0z9ScleW"
      }
    },
    {
      "cell_type": "code",
      "source": [
        "import random\n",
        "\n",
        "def random_player(game, state):\n",
        "    return random.choice(list(game.actions(state)))\n",
        "\n",
        "def player(search_algorithm):\n",
        "    \"\"\"A game player who uses the specified search algorithm.\"\"\"\n",
        "    return lambda game, state: search_algorithm(game, state)[1]"
      ],
      "metadata": {
        "id": "s9hre7gUcuh0"
      },
      "execution_count": 17,
      "outputs": []
    }
  ]
}